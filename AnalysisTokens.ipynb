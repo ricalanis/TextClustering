{
 "cells": [
  {
   "cell_type": "code",
   "execution_count": 4,
   "metadata": {
    "collapsed": false
   },
   "outputs": [
    {
     "name": "stdout",
     "output_type": "stream",
     "text": [
      "--2017-04-07 22:47:18--  http://snap.stanford.edu/data/amazon/productGraph/categoryFiles/reviews_Amazon_Instant_Video_5.json.gz\n",
      "Resolving snap.stanford.edu (snap.stanford.edu)... 171.64.75.80\n",
      "Connecting to snap.stanford.edu (snap.stanford.edu)|171.64.75.80|:80... connected.\n",
      "HTTP request sent, awaiting response... 200 OK\n",
      "Length: 9517526 (9.1M) [application/x-gzip]\n",
      "Saving to: ‘reviews_Amazon_Instant_Video_5.json.gz’\n",
      "\n",
      "reviews_Amazon_Inst 100%[===================>]   9.08M  3.94MB/s    in 2.3s    \n",
      "\n",
      "2017-04-07 22:47:21 (3.94 MB/s) - ‘reviews_Amazon_Instant_Video_5.json.gz’ saved [9517526/9517526]\n",
      "\n"
     ]
    }
   ],
   "source": [
    "!wget http://snap.stanford.edu/data/amazon/productGraph/categoryFiles/reviews_Amazon_Instant_Video_5.json.gz"
   ]
  },
  {
   "cell_type": "code",
   "execution_count": 7,
   "metadata": {
    "collapsed": true
   },
   "outputs": [],
   "source": [
    "import json"
   ]
  },
  {
   "cell_type": "code",
   "execution_count": 13,
   "metadata": {
    "collapsed": false
   },
   "outputs": [],
   "source": [
    "with open(\"reviews_Amazon_Instant_Video_5.json\") as f:\n",
    "    data = []\n",
    "    for line in f:\n",
    "        data.append(json.loads(line))"
   ]
  },
  {
   "cell_type": "code",
   "execution_count": 14,
   "metadata": {
    "collapsed": false
   },
   "outputs": [
    {
     "data": {
      "text/plain": [
       "37126"
      ]
     },
     "execution_count": 14,
     "metadata": {},
     "output_type": "execute_result"
    }
   ],
   "source": [
    "len(data)"
   ]
  },
  {
   "cell_type": "code",
   "execution_count": 2,
   "metadata": {
    "collapsed": true
   },
   "outputs": [],
   "source": [
    "import pandas as pd"
   ]
  },
  {
   "cell_type": "code",
   "execution_count": 16,
   "metadata": {
    "collapsed": false
   },
   "outputs": [],
   "source": [
    "moviedf =pd.DataFrame(data)"
   ]
  },
  {
   "cell_type": "code",
   "execution_count": 18,
   "metadata": {
    "collapsed": false
   },
   "outputs": [
    {
     "data": {
      "text/html": [
       "<div>\n",
       "<table border=\"1\" class=\"dataframe\">\n",
       "  <thead>\n",
       "    <tr style=\"text-align: right;\">\n",
       "      <th></th>\n",
       "      <th>asin</th>\n",
       "      <th>helpful</th>\n",
       "      <th>overall</th>\n",
       "      <th>reviewText</th>\n",
       "      <th>reviewTime</th>\n",
       "      <th>reviewerID</th>\n",
       "      <th>reviewerName</th>\n",
       "      <th>summary</th>\n",
       "      <th>unixReviewTime</th>\n",
       "    </tr>\n",
       "  </thead>\n",
       "  <tbody>\n",
       "    <tr>\n",
       "      <th>0</th>\n",
       "      <td>B000H00VBQ</td>\n",
       "      <td>[0, 0]</td>\n",
       "      <td>2.0</td>\n",
       "      <td>I had big expectations because I love English ...</td>\n",
       "      <td>05 3, 2014</td>\n",
       "      <td>A11N155CW1UV02</td>\n",
       "      <td>AdrianaM</td>\n",
       "      <td>A little bit boring for me</td>\n",
       "      <td>1399075200</td>\n",
       "    </tr>\n",
       "    <tr>\n",
       "      <th>1</th>\n",
       "      <td>B000H00VBQ</td>\n",
       "      <td>[0, 0]</td>\n",
       "      <td>5.0</td>\n",
       "      <td>I highly recommend this series. It is a must f...</td>\n",
       "      <td>09 3, 2012</td>\n",
       "      <td>A3BC8O2KCL29V2</td>\n",
       "      <td>Carol T</td>\n",
       "      <td>Excellent Grown Up TV</td>\n",
       "      <td>1346630400</td>\n",
       "    </tr>\n",
       "    <tr>\n",
       "      <th>2</th>\n",
       "      <td>B000H00VBQ</td>\n",
       "      <td>[0, 1]</td>\n",
       "      <td>1.0</td>\n",
       "      <td>This one is a real snoozer. Don't believe anyt...</td>\n",
       "      <td>10 16, 2013</td>\n",
       "      <td>A60D5HQFOTSOM</td>\n",
       "      <td>Daniel Cooper \"dancoopermedia\"</td>\n",
       "      <td>Way too boring for me</td>\n",
       "      <td>1381881600</td>\n",
       "    </tr>\n",
       "    <tr>\n",
       "      <th>3</th>\n",
       "      <td>B000H00VBQ</td>\n",
       "      <td>[0, 0]</td>\n",
       "      <td>4.0</td>\n",
       "      <td>Mysteries are interesting.  The tension betwee...</td>\n",
       "      <td>10 30, 2013</td>\n",
       "      <td>A1RJPIGRSNX4PW</td>\n",
       "      <td>J. Kaplan \"JJ\"</td>\n",
       "      <td>Robson Green is mesmerizing</td>\n",
       "      <td>1383091200</td>\n",
       "    </tr>\n",
       "    <tr>\n",
       "      <th>4</th>\n",
       "      <td>B000H00VBQ</td>\n",
       "      <td>[1, 1]</td>\n",
       "      <td>5.0</td>\n",
       "      <td>This show always is excellent, as far as briti...</td>\n",
       "      <td>02 11, 2009</td>\n",
       "      <td>A16XRPF40679KG</td>\n",
       "      <td>Michael Dobey</td>\n",
       "      <td>Robson green and great writing</td>\n",
       "      <td>1234310400</td>\n",
       "    </tr>\n",
       "  </tbody>\n",
       "</table>\n",
       "</div>"
      ],
      "text/plain": [
       "         asin helpful  overall  \\\n",
       "0  B000H00VBQ  [0, 0]      2.0   \n",
       "1  B000H00VBQ  [0, 0]      5.0   \n",
       "2  B000H00VBQ  [0, 1]      1.0   \n",
       "3  B000H00VBQ  [0, 0]      4.0   \n",
       "4  B000H00VBQ  [1, 1]      5.0   \n",
       "\n",
       "                                          reviewText   reviewTime  \\\n",
       "0  I had big expectations because I love English ...   05 3, 2014   \n",
       "1  I highly recommend this series. It is a must f...   09 3, 2012   \n",
       "2  This one is a real snoozer. Don't believe anyt...  10 16, 2013   \n",
       "3  Mysteries are interesting.  The tension betwee...  10 30, 2013   \n",
       "4  This show always is excellent, as far as briti...  02 11, 2009   \n",
       "\n",
       "       reviewerID                    reviewerName  \\\n",
       "0  A11N155CW1UV02                        AdrianaM   \n",
       "1  A3BC8O2KCL29V2                         Carol T   \n",
       "2   A60D5HQFOTSOM  Daniel Cooper \"dancoopermedia\"   \n",
       "3  A1RJPIGRSNX4PW                  J. Kaplan \"JJ\"   \n",
       "4  A16XRPF40679KG                   Michael Dobey   \n",
       "\n",
       "                          summary  unixReviewTime  \n",
       "0      A little bit boring for me      1399075200  \n",
       "1           Excellent Grown Up TV      1346630400  \n",
       "2           Way too boring for me      1381881600  \n",
       "3     Robson Green is mesmerizing      1383091200  \n",
       "4  Robson green and great writing      1234310400  "
      ]
     },
     "execution_count": 18,
     "metadata": {},
     "output_type": "execute_result"
    }
   ],
   "source": [
    "moviedf.head(5)"
   ]
  },
  {
   "cell_type": "code",
   "execution_count": 20,
   "metadata": {
    "collapsed": false
   },
   "outputs": [
    {
     "data": {
      "text/plain": [
       "B00I3MPDP4    455\n",
       "B00DAHSVYC    444\n",
       "B00I3MMN4I    417\n",
       "B00APE00H4    384\n",
       "B00CDBTQCW    358\n",
       "Name: asin, dtype: int64"
      ]
     },
     "execution_count": 20,
     "metadata": {},
     "output_type": "execute_result"
    }
   ],
   "source": [
    "moviedf[\"asin\"].value_counts()[0:5]"
   ]
  },
  {
   "cell_type": "code",
   "execution_count": 35,
   "metadata": {
    "collapsed": false
   },
   "outputs": [],
   "source": [
    "movie1 = moviedf[moviedf[\"asin\"] == \"B00I3MPDP4\"]"
   ]
  },
  {
   "cell_type": "code",
   "execution_count": 43,
   "metadata": {
    "collapsed": true
   },
   "outputs": [],
   "source": [
    "movie1_good = movie1[movie1[\"overall\"]>3]\n",
    "movie1_bad = movie1[movie1[\"overall\"]<4]"
   ]
  },
  {
   "cell_type": "code",
   "execution_count": 22,
   "metadata": {
    "collapsed": true
   },
   "outputs": [],
   "source": [
    "import collections\n",
    "from nltk import word_tokenize\n",
    "from nltk.corpus import stopwords\n",
    "from nltk.stem import PorterStemmer\n",
    "from sklearn.cluster import KMeans\n",
    "from sklearn.feature_extraction.text import TfidfVectorizer\n",
    "from pprint import pprint"
   ]
  },
  {
   "cell_type": "code",
   "execution_count": null,
   "metadata": {
    "collapsed": true
   },
   "outputs": [],
   "source": []
  },
  {
   "cell_type": "code",
   "execution_count": 127,
   "metadata": {
    "collapsed": true
   },
   "outputs": [],
   "source": [
    "def word_tokenizer(text):\n",
    "    #tokenizes and stems the text\n",
    "    text = text.strip(\",;'\")\n",
    "    tokens = word_tokenize(text.lower())\n",
    "    stemmer = PorterStemmer()\n",
    "    tokens = [stemmer.stem(t) for t in tokens if t not in stopwords.words('english')]\n",
    "    return tokens"
   ]
  },
  {
   "cell_type": "code",
   "execution_count": 128,
   "metadata": {
    "collapsed": true
   },
   "outputs": [],
   "source": [
    "def cluster_sentences(sentences, nb_of_clusters=5):\n",
    "    tfidf_vectorizer = TfidfVectorizer(tokenizer=word_tokenizer,\n",
    "                                    stop_words=stopwords.words('english'),\n",
    "                                    max_df=0.9,\n",
    "                                    min_df=0.1,\n",
    "                                    lowercase=True)\n",
    "    #builds a tf-idf matrix for the sentences\n",
    "    tfidf_matrix = tfidf_vectorizer.fit_transform(sentences)\n",
    "    kmeans = KMeans(n_clusters=nb_of_clusters)\n",
    "    kmeans.fit(tfidf_matrix)\n",
    "    clusters = collections.defaultdict(list)\n",
    "    for i, label in enumerate(kmeans.labels_):\n",
    "            clusters[label].append(i)\n",
    "    return dict(clusters)"
   ]
  },
  {
   "cell_type": "code",
   "execution_count": 129,
   "metadata": {
    "collapsed": false
   },
   "outputs": [],
   "source": [
    "sentences_good = list(movie1_good[\"reviewText\"])\n",
    "sentences_bad = list(movie1_bad[\"reviewText\"])"
   ]
  },
  {
   "cell_type": "code",
   "execution_count": 130,
   "metadata": {
    "collapsed": true
   },
   "outputs": [],
   "source": [
    "nclusters= 5"
   ]
  },
  {
   "cell_type": "code",
   "execution_count": 131,
   "metadata": {
    "collapsed": false
   },
   "outputs": [],
   "source": [
    "clusters_good = cluster_sentences(sentences_good, nclusters)\n",
    "clusters_bad = cluster_sentences(sentences_bad, nclusters)"
   ]
  },
  {
   "cell_type": "code",
   "execution_count": 132,
   "metadata": {
    "collapsed": false
   },
   "outputs": [],
   "source": [
    "def print_clusters(cluster,sentences):\n",
    "    for cluster in range(nclusters):\n",
    "        print(\"cluster \",cluster,\":\")\n",
    "        for i,sentence in enumerate(clusters[cluster]):\n",
    "            print(\"\\tsentence \",i,\": \",sentences[sentence])"
   ]
  },
  {
   "cell_type": "code",
   "execution_count": 133,
   "metadata": {
    "collapsed": false
   },
   "outputs": [
    {
     "name": "stdout",
     "output_type": "stream",
     "text": [
      "cluster  0 :\n",
      "\tsentence  0 :  hopefully this one continues, great show. i don't like having to type a required amount of words for these reviews!\n",
      "\tsentence  1 :  I love a good murder mystery. Great writing. Well casted. Great acting.  It hooked me fairly quickly and I am ready for more.  Imho, this show was the best of the five pilots I watched in contention for the Amazon originals.  There was not much I didn't like.  I am buckled up and ready for the ride.\n",
      "\tsentence  2 :  I enjoyed the pilot episode and my interest is peaked enough to want to see where the show goes, I think it has a lot of potential and If they do it right it will be an excellent show\n",
      "\tsentence  3 :  Another great one from Amazon.This show has tremendous potential. First episode gives enough of a story to captivate and want to continue watching.Great acting, awesome story line, i look forward to seeing more of this show.\n",
      "\tsentence  4 :  This show is GREAT! Great writing, acting, filming, editing, casting and they know how to take chances in a genre that on regular TV can be downright f*()&ng boring...\n",
      "\tsentence  5 :  The pilot Bosch has got off to a good start. I'm very glad to see Titus Welliver--whose face I've seen often  on so many other shows, but I couldn't quite place his name. It's only the pilot, but the show's low-key approach kept me interested.\n",
      "\tsentence  6 :  I am a fan of the books, though I read them years ago, and I found the show enjoyable.  I really hope they make this into a series.  I think it's a great character to explore.Where's the Mustache?  Thought that was part of the Harry Bosch Lore...like Indy's scare or Jack Reachers Ht & Wt(oh yeah they already screwed that one up).\n",
      "\tsentence  7 :  Bosch seams like he does not like what he does but is driven. This low key but intense character will keep you watching. What's going to happen next. This appears to not be the same ol formula. Watch it!\n",
      "\tsentence  8 :  Good show, another one though that will be different then the initial plot. That trial can't last forever. All and all though great show.\n",
      "\tsentence  9 :  The story,cast,production and presentation are very well developed and provide a great diversion. I can recommend that if the following shows are as good as this one you have a winner.\n",
      "\tsentence  10 :  Hieronomous B. is a character with depth. All the characters follow.The show would fit into any of Michael C's books. It is outstanding. Based on this pilot, I would buy the DVDs now.\n",
      "\tsentence  11 :  I always thought Bosch would be best as a series on a pay network where they could deal with some of the more explicit aspects of the novels as well as the vast number of novels written so far.  This is great.  I wasn't sold immediately on Titus  Welliver (Lost, Deadwood) but he had me by the end.  Also, great cast including, Lance Reddiick (The Wire, Fringe), Jamie Hector (Marlo from the Wire) and the old guy from The Walking Dead. Very faithful thus far to the novel City off Bones. With the number of Bosch novels I could see myself watching this show for many years to come!\n",
      "\tsentence  12 :  Pleassssse give me more! I want to see what happens. Guess I need to buy the books! Superb cast, acting, writing, music, cinematography, setting. Great characters. This show gets it done right!\n",
      "\tsentence  13 :  I thought that the pilot episode was great! The story line was easy to follow and the characters were likable. I will watch this show again.\n",
      "\tsentence  14 :  Good script, good production values, good story development, good acting, good characters, and good direction. This is a series I want to watch, and so will a lot of other people. There's nothing specific I think of to give it less than five stars, but in fairness, I reserve that for mind-bogglingly good material like Sopranos or Breaking Bad. This could rise to that level, but it's too early to tell. All the signs are very positive. Keep this one going. Titus is a veteran actor and it's terrific to see him come into a lead role with enough depth and originality to reveal so much of his skill and conviction. Great work!\n",
      "\tsentence  15 :  I think I could get hooked.  Lots of great actors from other shows I enjoyed.  Hurry up and produce more episodes.\n",
      "\tsentence  16 :  I can see a lot of promise in the pilot.  I hope that it will catch on and become a series.\n",
      "\tsentence  17 :  We're relatively new to the Amazon Prime family and having a great time choosing shows to watch. We enjoyed Bosch and hope that Amazon will continue this show. The acting was first rate with well-developed characters, considering the limited time the actors had to work with. We like the storyline, too. Recommended.\n",
      "\tsentence  18 :  I have never read the novels about Harry Bosch and came into this show with no preconceived notions. I was drawn within the first minute and really hope Amazon makes this show. If the don't will have to give the first novel a try. I need to know what happens next in the case and hoe Bosch's trail resolves itself. The cast is excellent and they all feel 100% authentic. Please make this show!\n",
      "\tsentence  19 :  Nice piece. Tight script, good acting, well-plotted. I'll watch more episodes, I look forward to getting into this world and getting to know a classic detective.\n",
      "\tsentence  20 :  This was a pretty good pilot that provided a good plot and some intrigue. The characters are interesting and the ending leaves me wanting more. I hope this pilot turns into full series. This pilot was much better than The After pilot.\n",
      "\tsentence  21 :  Solid work.I live in Los Feliz and am at the foot-steps of the Hollywood Hills -- Bosch would need a 3-5 million dollar place to score that view displayed in the pilot episode.  But I will suspend disbelief if you will.As for the kid's bones being found by a dog, I was like, &#34;gimme a break&#34; until near the end when Bosch runs in to a Coyote -- ie. a reminder that a shallow-grave would have been dug up a long time ago by Griffith Park wild-life. Am sure that's what Bosch concludes that in the next episode.Otherwise, Hollywood station and Musso & Franks are all nice to see.Keep it alive Amazon.  Hail Jeff Bezos.\n",
      "\tsentence  22 :  I was suprosed how much I liked this. The lead has a lot of potential to develop. Great story. Riminscent of the Killing.\n",
      "\tsentence  23 :  I have grown weary of most crime dramas out there.  I don't watch any on network TV, so I was skeptical.  But I am glad I gave this a try.  After 15 minutes, I was so engrossed in this very well done drama.  The acting was great, not one character was miscast.  The story, and even the tone of the show was right on target.  This show was definitely premium channel quality stuff!  I hope we get more!\n",
      "\tsentence  24 :  This is good stuff! More please! I watch a lot of shows/movies in this genre and this is right at the top. Not perfect but very very good. Can't wait for the next one! It was cool to see some &#34;The Wire&#34; alum in there too not to mention Herschel...after having been decapitated recently.\n",
      "\tsentence  25 :  Excellente, very similar to the book, strong character, no nonsense, tough and smokes to much, always in trouble with someone\n",
      "\tsentence  26 :  This first episode has aroused my intrigue...of course I want to see what happens/who did it--child abuse, shallow grave, daymares by the detective! I like the underlying court case of the main character too; hopefully there will be clues concerning the dead man and why he 'deserved' to be shot. When is the next episode?\n",
      "\tsentence  27 :  Another LA cop show? Yes, but this one deserves a future. Titus Welliver, a guest star on pretty much every TV drama you have ever seen, is a great actor and it is time that he was given his own show. Although this one is a bit cliche, the interesting characters and central mystery deserve further exploration. Would really like to see more in the future.\n",
      "\tsentence  28 :  Great pilot episode!  I hope Amazon decides to continue this show as it is one of the best cop shows I have seen in a long time.\n",
      "\tsentence  29 :  This show is odd but riveting. I don't like the evening, dimly lit scenes.  Makes it seem like it's being filmed on the cheap.\n",
      "\tsentence  30 :  Good action and keeps you watching the show.  The detective is very troubled but he is good and just got a bad rap. Will keep watching the show.\n",
      "\tsentence  31 :  Really enjoyed watching the Bosch pilot, I hopeAmazon streams more of this series. The show is well acted and the storyline is well written.\n",
      "\tsentence  32 :  I have been a Michael Connelly, and Harry Bosch fan from the first book I read.  I have read all the books and they just keep getting better.  I loved the pilot.  Was not sure about Titus playing Harry, but he did a great job!  The house and view is even better than I imagined.  I would watch this show.  Of all the pilots I have watched so far, this is the best one by far!!  Can't wait to the rest of the season!\n",
      "\tsentence  33 :  Very well written screen play. Great Actors doing a very good job.  Can't wait to see a whole season of this.  Good character development already in just the pilot.\n",
      "\tsentence  34 :  Liked this a lot, I hope that this gets made and becomes another series on Amazon.  I had a little difficulty trying to see it on my Roku.  I had to go into my account on line and then resume on the Roku.\n",
      "\tsentence  35 :  Too short. Are there going to be more episodes. It is  a crime to tease like this.\n",
      "\tsentence  36 :  Bosch is terrific in Michael Connelly's books.  Amazon has done a good job representing him in this pilot.  Can't wait to view more.\n",
      "\tsentence  37 :  I am very impressed with the cast's performance; especially the lead.  Well played and settled upon a subject that many have experienced and have never faced head on.  This series promises to deal with controversial cases stemming in areas possibly not dealt with in depth.  Hope it becomes a series!\n",
      "\tsentence  38 :  I love the series of books by Michael Connelly! This story was a great place to start for the pilot. Viewers get to see glimpses of Bosch's past and how it makes him who he is at present. I hope it makes for the whole season plus some. I would even like movies about Harry Bosch. They could tie them with the Lincoln Lawyer as they are half brothers. Cannot wait fore more like this!!!!!\n",
      "\tsentence  39 :  The idea of a homicide detective being sued for wrongful death is straight out of the headlines; and this gives a good look at how someone that has dedicated their career to catching murderers is impacted by that. The main character isn't really sympathetic, but is definitely driven by his own demons. I'd be interested in this one.\n",
      "\tsentence  40 :  I loved the pilot of this series. And I want to see more of it!! It surely has my vote!!\n",
      "\tsentence  41 :  I thought the show was going to be straight forward of an over reaching cop thinking he is doing good work but to everyone else he is a little dirty.  But the main character isn't like that. I, so far, feel he is the real thing a good cop.  But there is more there something that made him be this way.\n",
      "\tsentence  42 :  Top-notch acting and story. Well-directed, too. Titus Welliver brings great gravitas and depth to this role, and is supported by an outstanding collection of established actors. After one episode, I already have a great \"feel\" for all the characters and the world they live in. Oh, and one (perhaps silly) side note: It's so refreshing to see the interior of a police precinct with cubicles, rather than the old stereotype of desks just sitting out in the open, like every other show set at a police station (or newspaper office). I mention that because it's just one example of how grounded in reality this show seems.I think Bosch would easily be a hit series on FX, USA, A&E; or any number of cable nets. Here's hoping it gets picked up by Amazon! (Oh, and I've never read the books nor even heard of them before watching this pilot.)\n",
      "\tsentence  43 :  If the quality of the pilot can be maintained Bosch will make an excellent series.  Rather than repeat the accolades of others, I urge you to view Bosch and form your own opinion.  I do not think you will be disappointed.\n",
      "\tsentence  44 :  Interesting plot with additional side plots.  Would definitely watch the series if they make it.  Hope they do make it\n",
      "\tsentence  45 :  Interesting Police drama with interesting characters.  The show had me hooked in the first 3 minutes and I was really hoping to learn more about the case Bosch took on as he was trying to work thru a court case.\n",
      "\tsentence  46 :  I'm not familiar with the books, but I absolutely LOVED the portrait of this complex character, the writing, and the pace of the show.  Please keep it alive!  I want more - I keep checking to see if there are new episodes, but alas, am left hanging.\n",
      "\tsentence  47 :  I was thrilled to learn my favorite detective, Harry Bosch, was coming to TV.  Over the years I have imagined what Harry would look like and fell in love with the character.  I am not sure who could actually play Harry, he is an original.  The selection of Titus Welliver is OK, but I still think Harry is a more rugged type guy (Robert Redford with a mustache).  Welliver is too suave and his cussing sounds artificial.  It is hard to put Harry's though process on the screen--that is what I love the most about Harry.  One character in the movie told Harry he looks awful (due to the stress of the trial) but Welliver still looked too perfect.  Harry had a favorite jacket and few ties.  He lived the crime scene, entered the perp's mind and his dogged persistence solved the crime.  He has a tender side as well.  All of this will probably be developed as the series unfolds.  I am glad Welliver has hair on his chest--could not imagine a girly hairless Harry Bosch.  His unique house as well as his love for jazz is well presented.  Even though Welliver is not what I envisioned Bosch to look like is not the issue--what IS important Michael Connelly choose Welliver, has a hand in the production and because of that, I know it will be perfect.\n",
      "\tsentence  48 :  At first I thought, just another police drama but after about 10 minutes in I was hooked. A great adaptation of Michael Connelly's books and just as great acting. Interesting spin on a police detective up for murder of a serial killer investigating the murder on the side of a child. I want to see more.\n",
      "\tsentence  49 :  wow....a detective show that does not have a bed/sex scene.  it is really about police work.  imagine that!  titus welliver is wonderful as &#34;bosch&#34;.  his mannerisms fits the character well.  it is great to see him on the small screen, in hopefully, a series.amazon has done well with this pilot.  low-keyed action that kept you wanting to know what was behind the bend.  it did not need a shoot-em-up rally to make a story.am so ready for a 10-13 weeks of bosch.  please don't have some of the actors for the pilot and when it becomes a series, the personnel and location changes.  seen this happen too many times.as it stands, based on the pilot, this will be a great vehicle to put your feet up and watch.  amazon could have gotten any other actor but my watching titus welliver is the icing on the cake.good luck to titus, bosch and amazon!\n",
      "\tsentence  50 :  My husband and I really liked this pilot.  We were pulled into the story, the dialogue was well-written and the actors were really exceptional.  This program gets our vote for continuation.  When the pilot ended, we looked at each other with the &#34;oh no, what if they don't continue this???&#34; look on our faces.  Two thumbs up.\n",
      "\tsentence  51 :  I would place this show on the top of my list-right alond Di Morse-jane tennison-detroit 187 and so many others that showed great potential only to be axed. Come on guys- when will you give us some real adult material and scrape rookie blue for instance!\n",
      "\tsentence  52 :  I had never heard of the Bosch novels before I saw this pilot. Now, I kind of wish I had. Though I would have reservations about watching this pilot as a series since it would be too &#34;CBS Procedural&#34; for me. That being said, there was not a flaw to be found in the entire presentation. The acting, direction, editing, sound design, and even script were almost faultless. If Amazon orders this to pilot, they would have their first truly respectable drama series on par with what Netflix currently has. Amazon might have an ace up their sleeve with this one.\n",
      "\tsentence  53 :  I haven't read any of the books, but was pleasantly surprised. With the other police & detective shows out there, this series can compete against those easily.\n",
      "\tsentence  54 :  Bosch is a well made, well acted show. Amazon, I am hoping we will see more of it coming up.\n",
      "\tsentence  55 :  This could be on a broadcast or cable network. It has great production value and Titus Welliver is very good as Bosch. This is an expertly done cop show. I'll watch more if it gets picked up, which it should.\n",
      "\tsentence  56 :  I thought it was a little slow.  If they pick up the pace a bit it could be a must see series. I definitely want more back ground on the suspected serial killer he kills at the beginning of the show.  I'm sure if this becomes a series it will come out during the trial.  Characters were pretty good. Titus Welliver plays his character very well. I'd be interested in watching more and see how this develops. I also want to him to catch the person responsible for killing the boy they found in the woods.  I suspect there's more then just one out there.  I have not read the books but I think I will now.\n",
      "\tsentence  57 :  While many police detective dramas have been done, I liked the troubled soul of Bosch. He is another detective at odds with his boss and standard protocol. You are not sure if he is guilty, he seems to care about his cases and he has his own personal demons. A good start for a series!\n",
      "\tsentence  58 :  As a longtime Michael Connelly fan, I was impressed by the great casting for the pilot: from  the eminently watchable Titus Welliver to the venerable Scott Wilson. Worth the wait to have such a pleasurably perfect realization of the novels. Looking forward to the series with eager anticipation.\n",
      "\tsentence  59 :  I have not read the books this was based on but it sure sounds good.  Not sure if they will follow a story from the books but the one started by the pilot was pretty good..  Pretty good track record with the people involved and the actors included..  Having The Wire's Eric Overmeyer as a writer and producer immediately made me pay attention and it was worth it!!  Of the 2 pilot dramas, this was the most mainstream..\n",
      "\tsentence  60 :  Well, I sure do vote for a full season of Bosch. Of course, I'm a fan of the books; have read 8 or 10 of them. But quite apart from that, Bosch is a top-drawer police procedural. It has the feel of the reality of a homicide investigation; it has some of that grittiness & credibility that The Wire had. (Two Wire stalwarts are in the cast, too.) Amazon would be missing out if they don't buy a full season. But if they don't, I bet someone else will. Happily.\n",
      "\tsentence  61 :  I loved this series and can't wait to see more!  I have seen Titus Welliver in other things before and thought he was great but he maybe better in Bosch than any of his other roles\n",
      "\tsentence  62 :  I never read the books but after viewing this episode I will.  Excellent writing and casting and casting Titus Bosch was a stroke of genius.  Already a winner.\n",
      "\tsentence  63 :  This is the kind of show that keeps you watching week to week. Good acting, good story line. I certainly hope this gets passed through. I know I would love this show. It's the kind of real, raw stuff you only used to get through channels like HBO.\n",
      "\tsentence  64 :  I am hooked, completely invested, in Bosch's story.  The acting was incredible, the storyline was compelling, and I didnt want it to end. Out of all the potentially new Amazon series, this one takes the cake. More Bosch, please?\n",
      "\tsentence  65 :  The Bosch actor is a good choice.  The Connelly Bosch novels are a good basis for the series.  The teleplay was well written (by Connelly) and the acting is good.\n",
      "\tsentence  66 :  ...but it doesn't matter. This was well focused, well written and pretty well cast. Also I really appreciate the tone, mood and pace of the show. No super heroes or villains, no lame duck characters or super sleuths...just tight focus on an interesting character, his conflicts and those that surround him.I'll watch more of this for sure, and recommend all around.\n",
      "\tsentence  67 :  The acting is engaging and includes a very talented cast. The writing is excellent in Connelley's Harry Bosch series-based drama. The  pilot leaves the viewer wanting more. This one should make for excellent continued viewing.\n",
      "\tsentence  68 :  Most cop shows are pretty dark, but this one takes the prize. Interesting main character who Michael Connelly has used as his central character in many mystery novels. This should be a great show to follow.\n",
      "\tsentence  69 :  Excellent choice for a lead.  Amazingly Harry seldom cussed in the Connelly books.  Also, if I recall, he had a mustache.  Enjoyed the show very much and am looking forward to future installments.\n",
      "\tsentence  70 :  The show's central character is complex, thoughtful, even brooding, and seems to be the main subject of interest. The show is character-centered rather than plot-driven -- a few days after seeing it I remember the character clearly but I don't really remember the story line. This is not unusual for a pilot, which has to introduce the characters and the context. If more episodes of Bosch are produced I will certainly watch them.\n",
      "\tsentence  71 :  I'm a big Harry Bosch fan and I really liked this. The story and characters are very faithful to the book. I have to admit that I did find it a little slow. Somehow, without the inner commentary, a little is lost when the book is translated to video.Still, it was very done, and I would watch the series, if they make one.\n",
      "\tsentence  72 :  I loved the pilot.  It sucked me in right from the start.  Great cast.  I can't wait to see what happens next!\n",
      "\tsentence  73 :  I do love police dramas and this was great. I would like to see a lot more of this series. Characters are great. Please continue this series\n",
      "\tsentence  74 :  The pilot was excellent! The show had an excellent cast and compelling plot. I Can't wait to see more episodes\n",
      "\tsentence  75 :  I was not familiar with the Bosch detective novels but I am so glad that I decided to give this a look. The writing was great. Titus Welliver delivers a great performance. I couldn't help but make the allegorical connection between the detective and his namesake, the Dutch painter and his Masterpiece, The Garden of Eartlhy Delights. Detective Bosch working in &#34;The Garden of Earthly Delights&#34; (Los Angeles)  I WANT MORE BOSCH.\n",
      "\tsentence  76 :  Bosch is a smokin', driven law enforcement officer... a detective with the gold shield... who has problems with the level of action he takes against those who are not fond of laws. After smoking continuously, and smoking a perp, he is accused of murdering the individual and he must not only continue his work for the department, but also prepare to defend himself against a civil suit for unjustifiable homicide. By the end of the pilot, enough work had been done by the lead actor to ensure a continued viewing to see how things will work out ... the acting is first rate, the writing is first rate, and this is a pilot with punch.\n",
      "\tsentence  77 :  The show has promise and a very good cast. I thought Titus Welliver was the weakest casting choice as I am a fan of the novels but had a difficult time seeing Welliver as Bosch. The pilot had a nice gritty feel to it and deserves a chance to develop into a full series.\n",
      "\tsentence  78 :  This one had me from the start. This pilot looks to be a character drama with  a realistic serial killer storyline to propel the narrative with a federal civil suit trial to keep the character development moving at an even pace. In essence there are two complete stories going at the same time that are about the same detective but each is showing a different portion of the main characters personality and psyche. support cast has faces from Fringe and The Walking Dead and of course Titus Welliver firing on all cylinders as usual.do not waste any time reading more reviews, watch this one. its 1 hour you will not regret having spent watching quality television. I really hope this makes it to series. you hear us Amazon? 5 stars. :)\n",
      "\tsentence  79 :  I am a big fan of the Connelly books, and I have always liked Harry Bosch. This pilot is as good an adaptation of the Bosch series/character as I could imagine. It was true to the books, to events as portrayed and to Bosch's feelings and attitude. Well done, Amazon! This pilot just begs for a series to be developed, so that the story line can be resolved, and so the Harry Bosch stories can continue for all of us who like them so much. So, give it the green light Amazon, 'cause I think you have a hit on your hands, and I'd sure watch it.\n",
      "\tsentence  80 :  I am a fan of the Michael Connelly series about detective Bosch and I would watch this series.  For me after years of books, Titus Welliver wasn't Bosch and I missed some other charaters from the book.  I know, I know, it was just the pilot but hey, I can hope.  All that negative aside, I liked the show, the action, I liked Welliver's acting.  I hope the show succeedss.  I will watch.\n",
      "\tsentence  81 :  I enjoyed the pace of the show and liked the characters on the show. There were a lot of actors/actresses on the show that I recognized from other television shows. I really liked the storyline. I am interested in seeing how the investigation into the death of the child progresses. I thought the inclusion of jazz music throughout the more serious show was great. It kind of lightens the mood. I really hope Amazon picks up this series.\n",
      "\tsentence  82 :  I can't wait for the next episode to find out what happens!  Welliver is completely believable as Harry Bosch, and the whole cast works well.\n",
      "\tsentence  83 :  I am not familiar with the book on which this is based but anything with Titus Welliver is worth the time. After seeing him play bad guys for so long (my favorite is The Good Wife), it's good to see him on the other side. While the show is verrrrrrrrrry slow, I'll just chalk that up to 'establishing characters'.  It certainly has potential and I look forward to seeing more episodes.\n",
      "\tsentence  84 :  I love this one and Titus is amazing.  I really love the possible love interest (lady beat-cop) for him as well.\n",
      "\tsentence  85 :  This is a hard one to review since clearly this is a continuing storyline that's starting with a slow burn. The brooding, break the rules detective has been done to death but there's something about Titus Welliver's demeanor that makes Bosch interesting and not just broody. There are a lot of elements at play here that could go either way. The loyal but warry partner, the Showboat ex-girlfriend ME, The world weary but cool Coroner, the tough but fair female lieutenant and the slick but not sure which way he blows captain are all stereotypes but well played.I'd definitely watch a few more episodes because I think this show will grow over time.\n",
      "\tsentence  86 :  Low key but intriguing, it has a Jesse Stone quality without being quite so depressing. I especially like the lead and I'm glad to see him get a shot at his own series. An interesting show that I hope I get to see more of.\n",
      "\tsentence  87 :  ..But this took my attention.  The show has one of the better castings of the pilots on amazon, with Titus Welliver's superb acting.  Hopefully this makes it through to become a series.\n",
      "\tsentence  88 :  Enjoyed the new pilot.  Hope you keep it alive.  Looking forward to the new series.  Good depth to characters. (1).\n",
      "\tsentence  89 :  Really captivating story...and hope that this runs as a series so we can see how it turns out for Bosch.\n",
      "\tsentence  90 :  I liked the lead actor, his snarling old school tactics create a vibrant lead.I am also curious if that shooting was bad or not.\n",
      "\tsentence  91 :  This Prime series is off to a grand start and I can't wait for further episodes. Yes I think you should continue this series.\n",
      "\tsentence  92 :  The best show Amazon has backed yet. Phenomenal cast and the unknowns really support amazingly. I need more of this. Best cop show in a long time.\n",
      "\tsentence  93 :  i'm sure i will like it very much. i like all of the authors novels. now i have a face(that i like) to put to Harry' s carehcter\n",
      "\tsentence  94 :  At first it was a bit slow .. They have some good actor in there as we'll which made the show a bit better in my eyes .. some people from Walking dead and overall good acting, This was the game changer the show was getting better and more interesting.But i did feel there was a lot happening within the show towards the begining. Overall a good watch ..\n",
      "\tsentence  95 :  I've been a huge Michael Connelly fan for years, especially the Bosch series of novels.  Therefore, I truly expected this television incarnation to be a dud, as are most movies and TV shows adapted from excellent books.  Titus Welliver as Bosch?  Really?  How wrong I was!  Within the first five minutes, I was a believer and stayed that way for the rest of the show.  Yes, he smokes, probably more than was indicated in the books.  However, how bored would a reader be if the author constantly had to write that our hero lit another cigarette?  And yes, there is swearing.  Read the books; Harry swears, as do many other members of society.  I would love to see more of this incarnation of Bosch, and am looking forward to a continuation of this series.\n",
      "\tsentence  96 :  I was stunned when the episode ended. I totally forgot that I was  watching a pilot and went to play the next episode.Looking forward to the series and definitely hope it won't take long.I would have paid to watch this in a theater but it's even better because I'm in the comfort of my home.\n",
      "\tsentence  97 :  This looks like it's going to be a terrific adaptation of the Michael Connelly novels featuring Harry Bosch as a jaded LA detective who still believes that what he does matters - solving homicide cases and getting some kind of justice for its victims.  I hope there will be a nice long season to start and more seasons to follow.  There's a lot of great material here to be mined and Amazon has found the right people to pull it off!\n",
      "\tsentence  98 :  But, then again, you all who do have this at the top of your list will have to forgive me. The TV or movie versions can never live up to the books! It was very good. I loved Titus Welliver as Harry Bosch, but I always pictured him slightly differently. At any rate, I liked it very much and I think you will never find an actor in Hollywood who could match my mental picture of him. The story wasn't quite as compelling as the books are, but then again, I am always very hard on Pilots. Definitely pick this one up. Might even like it as much as Justified, given time. But it looks like the other reviewers here loved it, so I think more of Bosch is going to be a given. Can't wait!\n",
      "\tsentence  99 :  This is the kind of show that my husband would enjoy.  It has good plot and detail.  I liked it.\n",
      "\tsentence  100 :  One of the better done shows in a long time, it would be a serious mistake notto make this a regular multi-season show, I just cannot say enough good about  it.\n",
      "\tsentence  101 :  The profanity seems tacked on for a more adult rating, and was not needed to tell the story. The acting and story was well written otherwise, due to the author actually being involved. If this goes beyond pilot, I would continue to watch it.\n",
      "\tsentence  102 :  Can't wait to see the whole season.  Best of the bunch.  Good casting and excellent writing.  This would easily become a program we would watch weekly.\n",
      "\tsentence  103 :  Well, you hooked me. When the show finished I really wanted to find out what is going to happen with both major issues presented in the pilot. I hope &#34;Herschel&#34; plays a bigger part in upcoming episodes, I love the actor and his character is perfect for him.\n",
      "\tsentence  104 :  Bring it on Amazon, and make it soon. Superbly acted and written. I have not read any of the books, but this was a great show. This should be given more episodes, and soon. Please dont make us wait for the series to get underway. Cherry on top was Scott Wilson. Credibility meter went off the charts when I saw him in this. Okay, so when is the next episode?\n",
      "\tsentence  105 :  Los Angeles as the main character. Too cool. To quote another iconic Los Angeles cop: &#34;This is the city.&#34;Come on in... If you dare.\n",
      "\tsentence  106 :  Excellent show - great writing, acting, directing, everything!  Bosch feels like a fully fleshed-out character immediately, thanks to Titus Welliver.  The story immediately draws you in and keeps you engaged.  I really hope this one gets made into a series.\n",
      "\tsentence  107 :  The pilot episode was very good and left you wanting more. Hopefully Amazon will make this into a series as part of Amazon Prime and not charge per episode. If they do that I'd watch it.\n",
      "\tsentence  108 :  As a huge fan of Michael Connelly's LAPD detective Hieronymous &#34;Harry&#34; Bosch, I was thrilled, absolutely THRILLED to find this pilot on Amazon. Starring Titus Welliver as Bosch, this is an excellent story, sticking with the story line and very much the feel of the Bosch story.My only question is, how can we get MORE??? MORE! MORE! MORE!!!! PLEASE!\n",
      "\tsentence  109 :  Very well acted & produced, I predict Amazon will have a hit & strong following with BOSCH.Check out the first episode & I'm sure you'll be hooked and ready for an entire season.  Congratulationsto the folks who did such a good job on this new detective series.  Multiple continuing story lines make this acan't miss show.\n",
      "\tsentence  110 :  The main character is fighting his own demons, and there is a mystery about that because it is not clear if he's imagining what happened to the murdered boy, or if something similar happened to him -  I hope they keep this one going so I can find out!\n",
      "\tsentence  111 :  Good production values and a strong cast. This is definitely worth green-lighting for a full season. If Amazon does, they should release the entire season at once as Netflix does.The kicker is that not only Daniels but MARLO from the Wire are in it. Marlo as a cop is high comedy in itself.\n",
      "\tsentence  112 :  Good story for the pilot, but the smoking was really annoying.  I don't care if you smoke or not in real life, but it is not entertaining for me to watch the characters all puffing away.  Yuck.  The smoking ruined this show for me and my significant other.\n",
      "\tsentence  113 :  Great characters, love the tempo and pace.  I really hope to see more.  The cast and the acting were terrific.\n",
      "\tsentence  114 :  The Harry Bosch series by Michael Connelly is finally coming to life. Thankfully, the pilot seems to indicate that both the script and the acting match the excellence of these books. Amazon should undoubtedly produce this as a series.\n",
      "\tsentence  115 :  You are such a maverick - LOL!! You smoke too much and you think too much, but we all feel your angst. It doesnt help that you play that jazz music to cushion your pain.I and many thousands of people are hoping we can see you rip through crimes solving them with your cunning and intelligence.You are much like that coyote you encountered in the bushes - always hunting, always hungry and always alone.Had to watch this pilot several times - I just couldnt get enough.....\n",
      "\tsentence  116 :  It's wonderful to finally see this excellent series brought to life.  Titus captures Harry Bosch perfectly.  He is tough, but humane.  The supporting cast is just as effective, especially his Lieutenant.  Little too much hint at a love (or sex) interest for my taste and to stay true to the books, but I suppose that's to be expected.I definitely hope this becomes a full-blown series.\n",
      "\tsentence  117 :  I hope this continues. Great storyline and acting. Quality drama right up with the Inspector Lynley Series of character from book to show\n",
      "\tsentence  118 :  I don't know what I think of Bosch yet and I think I need to care about him. I don't know if he did murder the man instead of being in fear of his life and shooting a man. His character is not clear. Being cleared by the LAPD is not necessarily actual clearance and the civil court case for money doesn't give me any information to help find out if I like this man or if I respect him. Great detectives who go out of their way to figure out a case are always wonderful to watch. But if the dead child has hooked him since the doctor told him about the twist fracture because Bosch was an abused child, that is personal and doesn't constitute tenacious detective work. I don't know if I care if he wins the court case or not and I think I should. Too many people don't like him and I have not seen if that is because he is good at what he does or is just a bad guy.\n",
      "\tsentence  119 :  I hope Amazon decides to produce a full season of Bosch. It's interesting plot and characters are worth developing further. Look forward to viewing more episodes.\n",
      "\tsentence  120 :  Nothing flashy or gimmicky, just a solid cop show with a compelling cast and fine writing. I'll keep watching. Bravo Amazon.\n",
      "\tsentence  121 :  It was wonderful to see one of my favorite characters come to life.  I am looking forward to more episodes. Thank you Amazon for some great new shows.\n",
      "\tsentence  122 :  I'm a long time fan of Michael Connelly, especially the Harry Bosch novels, and this is an excellent telling. Based on the novel 'City of Bones' the pilot episode sets the stage and introduces the characters flawlessly. I can't wait to see the rest of the season!\n",
      "\tsentence  123 :  I have to commend Amazon on this original.  It left me wanting more after its conclusion. Here's hoping that this one will make the cut. Very well-defined characters.\n",
      "\tsentence  124 :  Amazing production value on this program.  I am very impressed with the lineup of shows that Amazon has produced.  This is my second one, and I'm loving it, too.  I've been a fan of the character for a long time.  This was such a pleasure to watch.  Superb cast, great acting, wonderfully filmed.\n",
      "\tsentence  125 :  I wasn't even sure I was going to like this show, but it was amazing.  The characters are very interesting and you're never quite sure where the show is going to go.  It's better than any crime drama I've seen.  I am impressed!\n",
      "\tsentence  126 :  I've listened to all the books in the Heronemous Bosch series as books on CD and loved the series.  The actor Titus Welliver did ok but he should have been a little bigger and gruffer so to speak to be that actor that was sounded out on the CD's.  Not a super hero mind you.  He did ok though.I will watch it if it becomes a series and would like to see the rest of the show, you turkeys!\n",
      "\tsentence  127 :  I love the books and the casting is perfect. I can't wait for a new episode I hope this one will keep showing.  If you haven't read the books it's ok as you will enjoy the show.\n",
      "\tsentence  128 :  I thought this was pretty good for a new TV series. I doubt that I would be watching it every week, but possibly.\n",
      "\tsentence  129 :  I am looking forward to watching this series (is it going to BE a series?) Titus W. does a great job with Harry Bosch, and his partner is terrific (forget actor's name). I love the jazz music used (looked it up on Amazon to get the cd). This show's pilot worked well for me in terms of making me want to follow the main character as he solves the child-murder and resolves his court case. I also want to know more about his background (where there were hints of a lot of background issues for him). He's got \"weight.\" And there is chemistry with the supporting cast.I want to see more!\n",
      "\tsentence  130 :  Great show can't wait for more please bring more I haven't read the book and I am still crazy about it\n",
      "\tsentence  131 :  As the story unfolds the seams begin to catch back into the cloth&#8230;what you think the story line is becomes more convoluted and the patterns reveal tears; intrigue leaves you wondering if the protagonist is victim or perpetrator.  I liked the characters and the story line; I was drawn in and want to know what happens next&#8230;.\n",
      "\tsentence  132 :  I thought the pilot was well acted and the writing was good, but, it was slow&#8230;painfully so. I'll probably watch the next episode, but if it doesn't pick up, that'll be it for me. There needs to be some character connections to keep me watching and the pilot didn't have that. Maybe the next episodes will. Not buying the &#34;older&#34; rookie character; she's not that likable and there was no chemistry between her and Bosch, or Bosch and his partner for that matter.\n",
      "\tsentence  133 :  Bosch holds great promise with the suspenseful ending despite the fact that the ending credits revealed Bosch's &#34;inner demon.&#34; If you want to be &#34;spoiled&#34; go back and check out the ending credits again. The acting and drama is good despite the over-concentration on  Bosch's smoking habit. This could be a great series.\n",
      "\tsentence  134 :  This was a realistic crime show.  It was interesting and held your interest to the end.  We look forward to the solution.\n",
      "\tsentence  135 :  Awesome show, you have to produce this show, it will be an intresting story to follow for detective bosch , a++++\n",
      "\tsentence  136 :  Good cast, good production values. Connelly's involvement adds to the consistency with the original character.  Was a little slow to start but left me wanting more.\n",
      "\tsentence  137 :  i am a huge fan of the books and i always knew it was meant to be on  TV. the pilot has the smart conversation and dark crime investigation thing down to a T. i love the cast and I would be heartbroken if it  doesn't go to series. need i mention i am a fan of the wire,\n",
      "\tsentence  138 :  I gave this pilot 5 stars because of Titus Welliver...he absolutely nailed the part. I love everything this man is in. Please please make more Bosch!!!!\n",
      "\tsentence  139 :  Good adaptation of the book character! Would like to see more! A bit slow at times,but pretty good ,leaves you hanging,but that's why its a series!!\n",
      "\tsentence  140 :  I loved the books and I loved the pilot!  Titus Welliver isan excellent actor and I am thrilled to see him here.  Often transition to visual media disappoints; not so in this well-acted, well-cast, well-produced pilot.  I am going to recommend this to all my fellow mystery fans!  What a pleasure to see a show that is more than cliche-ridden formula.  Great job!\n",
      "\tsentence  141 :  This is far better than most of the police procedural series on broadcast TV.  Hopefully it will be picked up and made into a full scale series on Amazon and available on Prime.The script was crisply written and the acting uniformly excellent.We will be looking forward to the rest of the series as Bosch solves crimes in LA.\n",
      "\tsentence  142 :  My favorite of the pilots that I've seen! Please make more! The cast is incredible and the characters are remarkable!\n",
      "\tsentence  143 :  Looks like an exciting series, great acting and cinemascope. Eric Overmyer is perfect for the part, I read all the books.\n",
      "\tsentence  144 :  I wasn't sure if I would enjoy this, but after a slow start the story really drew me in, and held my attention. Great actors, compelling storytelling. I couldn't believe when it ended because I wanted to have more. I love character driven shows, and this is one I will be watching. Plus any show with Titus Welliver, Lance Reddick and Scott Wilson is worth watching.\n",
      "\tsentence  145 :  I have been a Michael Connelly fan for years, and in particular enjoyed the Harry Bosch novels. Always a little over the top, hard drinking, hard working detective. In this pilot we are beginning to see and hear a little bit about Harry's previous life, what made him the man he is today, and from the looks of it, Harry was an abused kid, deep issues, not shared, until now.Titus Welliver, has become Harry Bosch, lithe, strong, grey haired, confident but signs of vulnerability. This is a winner, Harry does not suffer fools, and it shows. He is a good detective, and even though the police force may be flawed, they will try and support him. However, if this series goes as I think it might, Harry will become a Private Detective. The members of the police force are a myriad of characters, good guys and those who, well, you will find out. The women, all beautiful, some hang on, but Harry tends to be a one woman at a time man. His friends are the underdogs, the people he works for and with.This would be a must see series, hard driving man looking for justice. Bosch is out for the everyday man, and he takes no prisoners.Recommended. prisrob 02-07-14\n",
      "\tsentence  146 :  This pilot was well written, acted, and directed and Titus Welliver is the perfect actor to play Bosch. Of course with Michael Connelly Exec. Producing I wouldn't expect anything less. He is protecting his legacy and that's precisely why I am confident subsequent episodes will be handled every bit as well.I only resisted giving this pilot five stars because I believe that no creative endeavor is perfect.\n",
      "\tsentence  147 :  I've seen Alpha, The After, and now Bosch. I would say this one is probably the best of the bunch from HBO. I would say the main reason is the acting. The actor who plays Bosch is absolutely perfect for this role. I also just really like this type of detective--the  broken, flawed, obsessive with a chip on his/her shoulder. The supporting cast is also compelling. The coroner, the female detective, the old doctor from Walking Dead, Bosch's boss, etc. I could easiiy see myself or anyone binge watching this show.\n",
      "\tsentence  148 :  I liked the casting, I liked the plot. Yes, it was a bit slow in the action, but with all the other shows out there, it is a good change of pace. I think as the show developes we will really care about the characters. As I said....Will watch it!!!\n",
      "\tsentence  149 :  I love SVU but they have a new episode like every 5 months, and I'm so sick of every 19th csi, but this looked so good. I can't wait to see more. It was intense and I liked that. Titus ia so good anyway, I am glad to see him in a staring role. And he is so sexy. No to mention it took more then one episode to solve the crime! I love it. Well written, pulls you in, looks great. Faces you love. I want more of this.\n",
      "\tsentence  150 :  Get working on the rest of the series. Top notch acting by great characters. Great book series to make a show from. Up there with or better than in its own way than House of Cards on Netflix\n",
      "\tsentence  151 :  Best compliment: I've only seen the pilot & am waiting eagerly to see what happens in the next episode. Negative: In the pilot, it can't seem to decide if it is an edgy cable-type series or a standard-issue network TV type cop show (typical there-for-exposition-only sidekick, tough-but-fair immediate superior [a woman, of course, to be PC], and a nascent female cop love interest). Positives: Good plot. Interesting lead actor (trying a little too hard, but still in the right direction), and a real feel for Michael Connolly's Los Angeles locales. I'm giving it a look-see for the future episodes.\n",
      "\tsentence  152 :  At last an interesting Cop from our own neck of the woods. Great new show from the writings of Michael Connolly we can only hope that Amazon has the good sense to make this as well as The After. Complex characterisation and an intriguing plot make this a must watch. Also there is enough going on in the pilot to keep us guessing for an entire season.\n",
      "\tsentence  153 :  Now that &#34;Inspector Lewis&#34; is gone a really great detective thriller would be great.From what I have seen so far this show meets all the  requirements. I have readall of Miichael Connellys books and this show is authentic . Titus is the perfect pickfor the lead character &#34;Bosch&#34;.\n",
      "\tsentence  154 :  The best original series pilot yet. Alpha House is great, Betas is pretty good, but this show has the potential to become so much more.\n",
      "\tsentence  155 :  This is quality Television. A uniquely different look at Police work and the complexities associated with the jungle we live in. Keep the show coming, I look forward to character development and fresh plots with each new episode.\n",
      "\tsentence  156 :  I don't normally go for cop shows, but I really liked the characters and the acting on this one.  I hope it makes the cut!\n",
      "\tsentence  157 :  Bosch is the kind of LEO that used to dominate TV and movie fare.  Morally right on every issue, Bosch bends and breaks the rule of law to bring the bad guys to justice. For some reason, same ol' same ol' works in a cop drama.\n",
      "\tsentence  158 :  People who complain about tired old cop show tropes have attention spans governed by Twitter feeds, the nature of the job and story telling in general is going to give rise to certain repeated tropes.  Its like saying &#34;Oxygen, its so predictably there when you have to breathe&#34;.  Where the art of a engaging tv series rises is with the characterizations and the acting skills of the actors, and yes plot twists that are make use of the character's.  There's some good potential here, I gave it 4 stars for that potential and the pilot did a good job of engaging my interest till the next showing.\n",
      "\tsentence  159 :  The Bosch character was intriguing and made me want to champion him. The supporting cast was &#34;meh&#34;. Better actors could've been cast to make a more enjoyable episode.\n",
      "\tsentence  160 :  Seldom does a film or tv version of a book make me want to read the book. The few exceptions are a few BBC productions of detective novels, including the Inspector Morse series. So this pilot was surprising to me, as now I want to read everything Connelly has written.This pilot creates a singular universe that it draws you into, and that's Bosch's universe. The complexity of his character comes across quite well and the slow unfolding of both the trial and the crime Harry is investigating is tantalizing. I will definitely watch this series, and the point at which this ended has me wishing it were an hour longer than it was. Its pace is perfect (some might call it slow, but they are likely not those who pay attention to the subtleties of a character ), and the lead made it easy to imagine what was going through Harry Bosch's mind. Those &#34;slow&#34; scenes always had a very satisfying payoff. I'm a fan!\n",
      "\tsentence  161 :  Hurry and post more episodes this is great. Can't wait to see more , I am hooked. Great story and great acting!!!!\n",
      "\tsentence  162 :  Okay, I am a Bosch fan--love the books.  However, I bring with me deep doubts that producers/director will do a good job in translating the books to another medium.  In this case, it works--at least for this first episode.  The writing is of course very good, but it all hangs on Titus Welliver being a convincing Bosch--he brings it off well and expect would get better.  I did cringe once where it was a little to melodramatic.Amazon---let it live!\n",
      "\tsentence  163 :  Truthfully, the first round of Amazon originals was OK, but this new batch is excellent! Bosch is a very compelling police drama with Titus Welliver, sort of the US equivalent of James Nesbit, one of my favorite British actors. Both pull off the emotional smolder well, helped by the lawsuit backstory in this case. If this is the quality possible give me more!\n",
      "\tsentence  164 :  More now please.  I've waited for these books to be made into something for the longest time.  I think they've found the correct medium.  Only thing is I want the rest of the episodes ASAP!\n",
      "\tsentence  165 :  Definitely the best pilot of this year for Amazon. While this isn't a groundbreaking show (yes, we have all seen a cop drama) it is a solid show built for success. It's based on great storyline (books) and because the show is on Amazon they are going to be able to delve deeper into those issues that network shows only touch on. I saw a couple of complaints that this episode was slow in the beginning and didn't start getting more action until the end...well welcome to a pilot, you have to introduce the character in case somebody hasn't read the book (which nowadays is a lot of people). The casting was done very well because you can tell Bosch was troubled before the started delving into his past, and the action was first rate to this point. This one better be picked up by Amazon because I think this show has the potential to bring in subscriptions like House of Cards was able to do for Netflix.\n",
      "\tsentence  166 :  Tight script.  Great acting.  Very impressive pilot.  So far I rank this with Breaking Bad.  Give me more, Amazon.  Thanks.\n",
      "\tsentence  167 :  To begin with I love Titus Welliver in anything. Can't wait to see more of this story. Is Bosch the abused or the abuser. Hope to see this soon as a new series. As one person said...Wow!!!\n",
      "\tsentence  168 :  I'm not familiar with the Bosch novels, and am a bit burnt out on crime dramas, but Bosch is a crime drama handled very well.  The central character is played by an actor I'm very familiar with, but who I've never seen in a &#34;main character&#34; role.  Welliver is quite good and I'm glad to see him getting his own series.  I also liked seeing actors I recognize from The Wire, perhaps the best crime drama of all time.  There's a nice, dry sense of humor, the characters are interesting, and the hints about Bosch's made this an enjoyable episode.  I would love to see more.\n",
      "\tsentence  169 :  Interesting show,kept my interest,hope it stayers on.\n",
      "\tsentence  170 :  I love the books and was really excited that Bosch was coming to TV. I had a different physical image in my mind for Bosch, but I love the way actor portrays Bosch. Wonderful acting. I think it is well written and the photography was great...I love the shots of the city and how the views support the storyline. I'd love to see more episodes.\n",
      "\tsentence  171 :  If you are a fan of the Harry Bosch book series by Michael Connelly you should love this show. I'm looking hope that Amazon is planning more.\n",
      "\tsentence  172 :  Again, I previously reviewed this pilot and liked it very much.  I would like to see it become a series.\n",
      "\tsentence  173 :  I think I've watched four of the pilots now and this one by far is my favorite!!  Excellent drama without all the unneeded raunch and profanity.  Can't wait until it's a series.  Bring it on Amazon.\n",
      "\tsentence  174 :  The pilot comes within a small fraction of being excellent only by missing a couple things I've come to expect in a television series.  One thing that was missing was background music in scenes where you know any other television series would be playing really over-dramatic music.  The Foley artists were also left out of the editing process in a few scenes that were strangely quiet except for the voices of the actors and or actresses, in particular, when Bosch invites his policewoman friend (I forgot her name) to the bar, Okay, maybe there are some bars that don't have music constantly playing in the background, but how about tinkling glasses, other people's conversations, distant sirens, and all the other sounds that add realism to the action.  I didn't hear any, or did I not have my speaker turned up enough? Never-the-less: music, music, music!\n",
      "\tsentence  175 :  My first Bosch book was Bloodwork.  When it came out as a movie, Harry was played by Clint Eastwood.  Forevermore when I read other Bosch books (I have them all now!) I pictured Harry as Clint Eastwood.  Now, the problem with that was in Bloodwork, Harry had had a heart transplant.Forevermore, Titus Welliver with be the Bosch I think of.  This man has taken this character and made him into what I really should be thinking of when I read the books (I'm one who loves to re-read books I hold dear, and Michael Connolly writes those books!).The storyline is dark, as well it should be.  The subject matter is dark.  Very dark.  However, it does need to be brought to light. I will not give a spoiler to this episode, but I highly, highly recommend if you love hard-boiled detectives, this is exactly what you need. I love hard-boiled detectives.  PLEASE, AMAZON, MORE, MORE, MORE!\n",
      "\tsentence  176 :  We loved this fast moving pilot. The writers/directors did a wonderful job building Bosch's character over the course of the pilot. I'm a big fan of the Michael Connelly series, so it is no surprise that I enjoyed this show. However, my wife, who has not read any of the Bosch novels, enjoyed the show as much as I did. You have a sure winner, here, Amazon!\n",
      "\tsentence  177 :  This is a well written, well directed and outstanding drama that should continue. Looking forward to the entire series. It's GREAT!\n",
      "\tsentence  178 :  Well, that was an interesting premise, I'm definitely interested in seeing more of Bosch.Titus Welliver has always been great in great shows (Deadwood, Lost, Sons of Anarchy, The Good Wife), and I'm glad he found a titular role with this character, Bosch. I was not familiar with the novels, but it felt like Welliver delivered, as usual.I usually dislike copshows, because often they're just soulless, cookie-cutter procedurals (with a twist or not), but this will be nothing like that, because it's gritty, it feels real enough, the characters actually exist on the screen, and we're going to have a season-long story - and I like serialized dramas.Much like Justified (probably the only good &#34;copshow&#34; on the air), this has a clear identity. We may have lost SouthLAnd last year, but perhaps we found its successor. I'm rooting for it to get picked up (but then, I'm rooting for all Amazon pilots, minus The Rebels).\n",
      "\tsentence  179 :  I do not at any point in my day want to watch Law and Order, CSI, or any other of TV's formulaic crime dramas.  Bosch is different.  The first few minutes of the Pilot unravel a murder scene placing our protagonist in a difficult situation.  His decision in this scene will prove to be an ongoing problem for Bosch as a trial unfolds making it difficult for him to focus on his work as a homicide detective.  Work is apparently all he cares about as he gives away tickets to take a weekend shift during which he runs into Hershel from the walking dead who's dog has found a human bone which tosses Bosch into another mysterious murder case.\n",
      "\tsentence  180 :  The cast is great, the acting top notch, but the pace has to pick up a little in certain places. Add more music to the background...music that is moody and goes with the story arc. Make it a part of the show. The music, acting, gritty L.A. and the story can go hand-in-hand.It is a great show and really should be picked up for the season.\n",
      "\tsentence  181 :  I've read all of the Bosch books and have all of them either in hardback or on my Kindle.  Bosch is one of my favorite characters.  I always picture in my mind what I think the characters look like, but I honestly don't know how I pictured him because after seeing this show, this was the real Bosch!  This is what he looks like.Welliver has the character down perfectly...irascible loner, anti-authoritarian, and tenacious detective.My husband is also a Connelly/Bosch fan and his response was &#34;That was excellent.  That was the real Bosch. Be sure and respond so they know how much we like it and want to see the series continued.&#34;  That pretty much sums it up.Way to go amazon.  More Bosch and soon.\n",
      "\tsentence  182 :  This Show is a must see then, must see more .  I hope the responses ,I have made are being taken serious .  This is one of the show CRIME DRAMA , that really struck me into the ,&#34; I want to see more mode.&#34;\n",
      "\tsentence  183 :  So disappointed when the show ended and realized that I might have to wait a long time for the next episode!  I haven't read the books so can't make comparisons. But I thought this was very well acted and directed. Not just another cop show. Intriguing right from the start. Excellent production values. Amazon, please pick this show up!\n",
      "\tsentence  184 :  This is a cop show that I can really enjoy. I'm tired of all of the formulaic cop/detective shows on network tv.Make this show!!!\n",
      "\tsentence  185 :  I love Harry Bosch! I couldn't wait to watch, but now I must have more! Please continue this great series!\n",
      "\tsentence  186 :  This is a great story and very well told in first episode. The pace is perfect and acting is superb. I haven't read the book but think the pilot is pretty close to it.I will definitely like to watch it as a full fledged show.\n",
      "\tsentence  187 :  I was very impressed...........I really hope this gets picked up.............I cant wait to know what happens.............it kept me wanting more..............loved the characters - well acted - nice to see familiar faces :)  great storyline..............what else can I say exept amazon this is a keeper !!!!\n",
      "\tsentence  188 :  Looks very promising. Definetely one of the better cop show episodes I've seen in a while......Love that Titus Welliver finally got a lead role..... great actorAmazon Studios should make this and keep the quality as high as in the pilot\n",
      "\tsentence  189 :  Aside from the intrigue of the story line, I have always been a fan of Titus Welliver, Alan Rosenberg, Amy Aquino, and Scott Wilson.  I like how Harry Bosh's character is not derailed by his own life, that of a serious trial going on against him, but yet, he quietly keeps doing his job.  Harry Bosh has that perfect mix of charm, brooding, take charge, and he is a gentler force.  I am glad they did not go the way many of these cops shows do, where police brutality becomes the norm.  I do not find that very entertaining.  Although, I like that Harry Bosh does not take s*** and stands his ground, I also like the fact that he has a difficult past that rears it's ugly head when he is working (child abuse).  However, I am glad that his past is interjected without showing too much of the abuse itself.  Titus Welliver is always good as is Amy Aquino.  But I have always loved Alan Rosenberg!  He is smart, clever, entertaining (can be very funny) and believable as the physician.  Rosenberg has been doing this acting thing a long time and he knows what he is doing.  I certainly hope in continues to be in every episode and not in some small way, much like Amy Aquino.  I see these two actors as stand out actors that can really add a texture to this show, but we need to see them more than just as cameo appearances.  Great show!  I guess this means we will not be seeing Titus Welliver on the Good Wife in the future.  He was great on that show.  You loved to hate him!  Great show - a real keeper!!\n",
      "\tsentence  190 :  Yes, the characters are portrayed well and true to the Connelly books about Bosch (I read them all.).  It was fun watching one of his books come to life before my eyes.  I just wish the writers kept the same high standard of no gutter language that Connelly is noted for.  To me it is so unnecessary.. Yet, I enjoyed seeing the books go live, so I'll keep watching.\n",
      "\tsentence  191 :  Even if you've never read the books you should enjoy this.  If you're a fan of great acting, writing and direction then this is for you.  A very gripping drama that I hope gets picked up.  Great job!\n"
     ]
    },
    {
     "ename": "IndexError",
     "evalue": "list index out of range",
     "output_type": "error",
     "traceback": [
      "\u001b[0;31m---------------------------------------------------------------------------\u001b[0m",
      "\u001b[0;31mIndexError\u001b[0m                                Traceback (most recent call last)",
      "\u001b[0;32m<ipython-input-133-33410abd3e0c>\u001b[0m in \u001b[0;36m<module>\u001b[0;34m()\u001b[0m\n\u001b[0;32m----> 1\u001b[0;31m \u001b[0mprint_clusters\u001b[0m\u001b[0;34m(\u001b[0m\u001b[0mclusters_good\u001b[0m\u001b[0;34m,\u001b[0m \u001b[0msentences_good\u001b[0m\u001b[0;34m)\u001b[0m\u001b[0;34m\u001b[0m\u001b[0m\n\u001b[0m",
      "\u001b[0;32m<ipython-input-132-312e9b0b57f0>\u001b[0m in \u001b[0;36mprint_clusters\u001b[0;34m(cluster, sentences)\u001b[0m\n\u001b[1;32m      3\u001b[0m         \u001b[0mprint\u001b[0m\u001b[0;34m(\u001b[0m\u001b[0;34m\"cluster \"\u001b[0m\u001b[0;34m,\u001b[0m\u001b[0mcluster\u001b[0m\u001b[0;34m,\u001b[0m\u001b[0;34m\":\"\u001b[0m\u001b[0;34m)\u001b[0m\u001b[0;34m\u001b[0m\u001b[0m\n\u001b[1;32m      4\u001b[0m         \u001b[0;32mfor\u001b[0m \u001b[0mi\u001b[0m\u001b[0;34m,\u001b[0m\u001b[0msentence\u001b[0m \u001b[0;32min\u001b[0m \u001b[0menumerate\u001b[0m\u001b[0;34m(\u001b[0m\u001b[0mclusters\u001b[0m\u001b[0;34m[\u001b[0m\u001b[0mcluster\u001b[0m\u001b[0;34m]\u001b[0m\u001b[0;34m)\u001b[0m\u001b[0;34m:\u001b[0m\u001b[0;34m\u001b[0m\u001b[0m\n\u001b[0;32m----> 5\u001b[0;31m             \u001b[0mprint\u001b[0m\u001b[0;34m(\u001b[0m\u001b[0;34m\"\\tsentence \"\u001b[0m\u001b[0;34m,\u001b[0m\u001b[0mi\u001b[0m\u001b[0;34m,\u001b[0m\u001b[0;34m\": \"\u001b[0m\u001b[0;34m,\u001b[0m\u001b[0msentences\u001b[0m\u001b[0;34m[\u001b[0m\u001b[0msentence\u001b[0m\u001b[0;34m]\u001b[0m\u001b[0;34m)\u001b[0m\u001b[0;34m\u001b[0m\u001b[0m\n\u001b[0m",
      "\u001b[0;31mIndexError\u001b[0m: list index out of range"
     ]
    }
   ],
   "source": [
    "print_clusters(clusters_good, sentences_good)"
   ]
  },
  {
   "cell_type": "code",
   "execution_count": 134,
   "metadata": {
    "collapsed": false
   },
   "outputs": [
    {
     "name": "stdout",
     "output_type": "stream",
     "text": [
      "cluster  0 :\n",
      "\tsentence  0 :  Some of the acting to me is less than desirable.  It seems like some minor characters' roles are written to give their small parts too much significance.  However, I definitely want to know more.  The clues about Detective Bosch's past give you enough to speculate, but not quite enough to make the answers predictable.  A perfect mixture for great suspense.\n",
      "\tsentence  1 :  The first episode worked for me but not for my wife.  The courtroom drama is a distraction and the attorneys on both sides are real cliches.  I also weary of the rogue detective who has more conflict with his police peers than he does with the bad guys.  Fox's &#34;The Following&#34; is playing out the same worn out bit right now.  I'll try another episode, but it better get tighter and richer soon or I'm gone.\n",
      "\tsentence  2 :  Didn't find the storyline engaging.  Characters seemed to do the best they could.  Script is needs more effort to engage the viewer\n",
      "\tsentence  3 :  I thought this was slow. I have read the books and was very excited to watch it. I didn't finish this first episode. It just felt really slow.\n",
      "\tsentence  4 :  With all the excellent selections of video, I'm particular. This pilot didn't do it for me. Why? I can't put my finger on it, but perhaps the story was  not tight enough.\n",
      "\tsentence  5 :  Starts off as little formulaic. Sullied cop/agent who has no life but work and Devil-may-care attitude.Solving crimes like no one else. How is this different from 15 other shows like this?\n",
      "\tsentence  6 :  I have read multiple Bosch books and enjoyed them all.  His book character is complex and I hope the writers and director can do the same thing with him in the TV show.\n",
      "\tsentence  7 :  The slow, mello pace of this show, would make one hell of a theater release. But, I feel, its pacing and low key acting from the main star (Titus Welliver) does not come over well on the small screen.That said, this was a wonderful episode and Mr. Welliver has a strong presence here. If they were to pick up the feeling of the writing, and not have the Bosch character be so low key, it would feel more suited to TV but, personally, I would really prefer they take it back, build on the story more, flesh out the other characters more, add another hour or so, and release it to the big screen. I think Bosch could be the next Dirty Harry; just a lot smarter. LOL\n",
      "\tsentence  8 :  Been here and done that with this series type ala NCIS 1, 2, 3, 4, ad infinitum.  The saving grace for this police procedural  is the always imminently watchable Titus Welliver who brings a certain weight to this role that he brings to every role.  He was able to make me interested in his backstory, though.  All in all I felt that there wasnt anything here that I havent seen in countless other cop dramas.\n",
      "\tsentence  9 :  Beyond slow paced, boring and cliched, is it sponsored by tobacco companies?  A jarring amount of cigarette smoking in the first 15 minutes.  Didn't finish watching it.  Watched a third and it just never got any better.  How is it getting the good reviews?  Mystery to me.  Got to be mighty bored to be entertained by this.\n",
      "\tsentence  10 :  The show has a slow start, to me it&#8217;s a bit dated compared to the present detective and police crime dramas. I have to see a few more episodes to really get a feel for the show. I didn&#8217;t truly get pulled into the show until the end, when the coroner was explaining the trauma and the abuse the kid had endured when he was alive, and the flashback the detective was having and how PTSD seemed to grow on him through the description of the kid&#8217;s abuse. Maybe the next episode will raise my opinion of the show; at the moment I&#8217;m 60/40 not interested.\n",
      "\tsentence  11 :  .....I very much enjoyed seeing Titus in something that wasn't the &#34;bad guy&#34;, and cop dramas are among my favorite. Having been personally involved in a cops life I understand the language they use, but I don't like it. I would wish that it did not have to be a part of every show that comes out now.It was a little slow to start but built interest and ended this pilot well. Based on the overwhelming 5-star reviews I'm sure you'll keep it going. The only thing that keeps me from 5-star also is the language, especially the use of God's name inappropriately. I live in the real world and I have to deal with it every day. I enjoy TV as a way to get away from all of that, so I would wish that the good dramas didn't feel the need to use certain words in every one of them.\n",
      "\tsentence  12 :  Bosch has a good cast, a nice L.A. setting (great use of landmarks) and is well made &#8212; it definitely felt like any other TV show. But that's the trouble &#8212; it felt like any other TV show. A &#34;renegade&#34; middle-aged white dude feels misunderstood and hard done by and has to prove himself... Not very original, and there wasn't anything in this episode that felt fresh for anyone who's seen a police drama before. The dialogue was pretty hackneyed at times, not least when two male cops decide that a blonde lady shouldn't have killed herself because she was pretty (yeah, that's how mental illness works). The saving grace was that it picked up the tension when the trial started and when we finally got some info from the medical examiner. Unfortunately, it was just getting intriguing when it ended. I would be interested to see what happens next, but only if the pace picks up and the show challenges viewer expectations a bit more.\n",
      "\tsentence  13 :  I fell asleep watching it and won't watch anymore episodes if they decide to make more.  What I stayed awake for seemed to be well made though.\n",
      "\tsentence  14 :  Consider this exchange between Titus Welliver (Detective Harry Bosch) and Scott Klace (Sergeant Mankiewicz) when \"Mank\" wants Bosch to investigate a report of the discovery of a bone:Mank: \"The guy says it's human, Harry.\"Bosch: \"Yeah, well, it always is...until it isn't.\"Mank: \"You're right. 99 times out of 100 what is it? A coyote, deer, cow, whatever?\"This devil's advocacy might have worked, had Bosch been the one to elaborate, in his vain attempt to avoid the assignment. Spoken by the sergeant, this bit comes off as a clumsy attempt to give the viewer insight and explain the usual frustration in such cases. It would be more believable as true cop banter if it had been Bosch utilizing the argument to avoid the call.This poor allocation of good dialogue is just one example of many ways that the best assets of this show have been mis-managed.Familiar faces seem mis-cast, while it is easy to imagine them doing a brilliant job in a different role. Alan Rosenberg is billed as a guest star, but it doesn't take much imagination to see him as a great choice for a regular role in another part. The same can be said for Lance Reddick, Abraham Benrubi and Jamie McShane.The production values/cinematography are very good and may be the best features of this pilot. However, don't expect the edginess of \"The Killing\".Nothing groundbreaking is happening here.\n",
      "\tsentence  15 :  I feel like I've watched this story line in other shows umpteen times before--the male main character who's rough around the edges, but also kind of a hero.  Except this show doesn't hold my attention nearly as well as some of the others have. I'm quite surprised by the other high reviews on here & I much preferred Mozart in the Jungle and especially Transparent--I'm hoping that's the one that gets picked up--it's unique and interesting and left me wanting more!\n",
      "\tsentence  16 :  I really am stunned that this show seems to be getting the highest rating of all the new original pilots. It's like all the other crime/cop dramas on TV already\n",
      "\tsentence  17 :  Bored me from the beginning.  Will not match another crime show.  It didn't keep me up, stopped watching it after 20 minutes.\n",
      "\tsentence  18 :  I read the book and hope it follows that story line but I am tire of the burnt out detective who drinks and smokes but I think it might be good and  would watch again\n",
      "\tsentence  19 :  The  beginning dialog was SO annoying.  I'm not sure what they were trying to do, but it was unsuccessful.  They lost it as the episode went on and improved.  The story is very interesting.  Some actors were stellar, others were not. The music could not be worse.  This could be an worth-while serial killer show if they improve the dialog, some of the acting and totally change the music.\n",
      "\tsentence  20 :  Like this pilot think it is great but a little slow, more like a law n order. I can't say I would watch it if they made it a series as there are sooooo many cop/court/detective dramas already. too original I like Bosch the character just want more gritty, dirty and grime. and maybe more action than just a fall down a hill. but for those who love and I mean love :) cop shows that are more about the investigation, this is for you-enjoy.\n",
      "\tsentence  21 :  I read a couple of these books a while back and liked them ok. I think I would have enjoyed this more if it wasn't the same old thing--hero has personal problems with alcohol that keep getting in his way, but he manages to catch the bad guy anyway. I guess I've read and seen too many of these stories in the past to make them interesting in the present. Otherwise I thought the writing was very good and the story interesting enough to keep me watching to the end. Actually I always watch or read to the end even if I hate a story. Probably a bad habit. I didn't hate this story though. Just don't like reading about another hard guy with an alcohol problem as much as I used to.\n",
      "\tsentence  22 :  The lead is a depressed bore and the other characters are stiff and cliche. The LA setting is done well but that is about it\n",
      "\tsentence  23 :  I read the books, so can \"identify\" but I don't care for the actor chose for this part not \"scruffy\" enough for Bosch, at least the one I have an image of.........\n",
      "\tsentence  24 :  I believe this will be a big hit. I can't wait to see more of this drama and explore the eccentricities of the main character. I think the cast was chosen well for this production. This detective is a driven and bent on making sure that the case is solved no matter whose toes he steps on and all the while he is on trial himself for a supposedly &#34;bad&#34; shooting of a serial rapist. This show is based on the books by Micael Connelly and if you are a fan you want to watch this series. I give credit to Titus Welliver, who plays the detective, for making his character believable. It is well worth watching.\n",
      "\tsentence  25 :  I didn't even realize this pilot existed until this morning. As a fan of Michael Connelly and his characters, I was extremely excited to see Detective Bosch in action. I've read roughly 7 to 10 from the Bosch series and all of the Lincoln Lawyer novels (as far as I know).I had issue with the very first scene. Never a good thing to start off a show with doubts. From my recollection, Bosch despises having partners and prides himself on being a lone wolf, or perhaps coyote is more apt. I vaguely recall Edgar being mentioned here and there in the books, but he barely registered in any of them. The pilot makes Edgar play a much larger role, which I'm not sure that I'm OK with. Part of me thinks it might help the Bosch character verbalize things that would normally be internal dialogue in the novels.I felt disappointed that the pilot did not focus that much on Bosch's amazing knack for clues and detective work in general. It slightly hinted towards it here and there, but when you only have one chance to make an impression, such as a possible one-time pilot, you need to make it something memorable. They failed in this regard. However, they were able to capture his dedication to the job, as demonstrated when he steals case files and visits crime scenes late into the night.Perhaps I was expecting too much based on my readings of the novels. I think the ultimate test is the answer to the question, would I watch it on a regular basis if I had no prior knowledge of the books. To be completely honest, based solely on the pilot I can say a definite no. It didn't stand out any from the many other detective/courtroom dramas already in production. Maybe as the character is able to be developed more, if the series is picked up, things will improve. For the time being, Bosch needs to work on making a name for himself before it is too late.\n",
      "\tsentence  26 :  For a cop show, it was more drama than action; however I found it interesting and would like to see the rest of the season\n",
      "\tsentence  27 :  Coming at this with a disadvantage having never read any of the Bosch books; but, with all that is good about this show, I am not satisfied.  I hate the wrongful death trial and the smarmy plaintiff's lawyer; it is an impediment to an otherwise intriguing, excellently acted story and well developed characterizations.  Welliver and Wersching are both great and make watching a complete pleasure.  Establishing that Bosch has a semi-sordid, psyche-affecting past can be done without dragging out a dreary, trite courtroom &#34;drama.&#34; (Although, Abraham Benrubi as the defense attorney is inspired casting).  This can be very good if it doesn't bog down in hammering Bosch with the judicial system and the ever-present-in-every-police-drama Rat Squad.\n",
      "\tsentence  28 :  This one was the most promising of the amazon originals, but not enough to keep me coming back for more. It's a decent storyline and the acting is good, but no character really grabbed me. I have to really connect with a character to be drawn in to a show, but Bosch is just not all that likable. The actor is great, but I'm not sure I really care about what happens to Bosch...that's a problem. This would be one I'd be willing to watch another episode to see how things developed, but, in general, I can take it or leave it.\n",
      "\tsentence  29 :  Com'on people. We have all the CSI's, USA shows, justified, list goes on and on. Show is predictable and is more at home on a cable television channel\n",
      "\tsentence  30 :  Felt like a fairly standard police procedural. I don't think the concept was that revelatory or exciting. The execution was adequate.  If they had an exciting new concept with an adequate execution I probably would have been more impressed (alternately, their current concept with an amazing execution).  It wasn't...bad.  Just not that great. My response while watching it was one long, drawn-out meeehhh.I am not a big fan of this genre, so I may not be the most reliable reviewer.\n",
      "\tsentence  31 :  Really did not care for the show. The character was robotic and lacks emotions. Hope this show does not make it over the other shows.\n",
      "\tsentence  32 :  There is nothing really new here. I give it 3 stars because it is well done but I wont watch it again. If you like police dramas this show is for you but it feels much like every other show on tv about detectives.\n",
      "\tsentence  33 :  The series started off pretty good.  It was a fresh approach the first ten minutes, but then began the stereotypical misunderstood cop. The supporting cast  was good, except for the  &#34;older&#34; police woman.  She was just too old to be starting out to be a police woman at this stage of life.  She looked old enough to be ready for retirement.  She should have been in her middle to late thirties, but looked well into her forties.  Just a flaw in the casting, but one that was  jarring.  The protagonist, Bosch, appeared to be weak.  He had the appearance of being jaded.  He needs to have more character.. Its an okay series, but one that I probably wouldn't seek out to see, but might watch if there wasn't anything else to watch.  As long as I had a book to read while the series played in the back ground I would watch it.  Bosch just wasn't a character that I cared about. It's not the actors fault.  He's a good supporting actor, but he won't be able to carry the show as long as the script is as poor as it is. There was too much happening in the pilot.  Everything was thrown in at once and cliches were used to prop it up.\n",
      "\tsentence  34 :  If this show makes it out of all the other ones then there's no hope for humanity, cop shows thrive on dragging on and being boring as always.\n",
      "\tsentence  35 :  Stopped watching. Smacked of network TV. I like more of your push the envelope series rather than following same old patterns.\n",
      "\tsentence  36 :  The acting was great in this, storyline very interesting, but the crime investigation with examining skeletons of children and describing in detail the brutality obviously done to them was too creepy for us.\n",
      "\tsentence  37 :  I found Bosch to be a slow paced show.  I had to fight to get through the entire episode.  This is a show that I could live without.\n",
      "\tsentence  38 :  Slightly better than average cop procedural with an emphasis on the brooding, spare characterizations often a part of the Connelly novels.  While unique and atmospheric, it makes for a plodding, slow television experience.  Camera placement and scene blocking also raised a few eyebrows, as in a few cases it felt amateurish and faux arty.I'll attribute it to pilot jitters.  Not great, not bad.\n",
      "\tsentence  39 :  Come on Amazon,..Some of us don't like HD, when are you going to make this available for those of us who would rather see it in SD,.At this time, we have no choice !!!\n",
      "\tsentence  40 :  It's a common fact that a polieman will win everytime in court on a one on one situration because no one else is there. This is nothing new. It would be stupid for a person to reach for his pocket when a man has a gun pointing at him. Bosch said that the man wasn't unarmed but the show failed to show us any weapons. Bosch should have left his partner with the bone scence in the woods and found something else to do and got the run-down on things later. This show needs to be speeded up a little. Good luck.\n",
      "\tsentence  41 :  I don't know anything about the book series this is based on, so I can't speak to that. I think the series has potential, mainly because of it's star.  Welliver is very talented, and if this were to continue to series, I would hope the writers would give him more to do and play than &#34;angry man&#34;.  You've got the talent, let him use it!  I would give the series a chance if it continues.\n",
      "\tsentence  42 :  1) I really love the lead actor. I like that there is air of mystery about him.2) I liked the overall &#34;look,&#34; ie, production values, cinematography - especially the scenes in the forest.3) Great job - snagging Hershel (Scott Wilson) from The Walking Dead. He always lends a certain credibility to all of his roles. Love him.4) I thought splitting the plot line into 2 clear directions (ie, the shooting, and the murder mystery) didn't quite work. I thought the shooting plot line wasn't really necessary to teach about the subtext or &#34;what drives the character.&#34; All of the character study could of been explored during the investigation of the murder, which is the plot line that worked best for me anyway.5) Let's be honest, this is a typical procedural. It's been done before and is currently being done on television. That said, I wanted to see what happened to this character - so that's sayin' something.\n",
      "\tsentence  43 :  Not much to say about this one because it's about as generic as cop shows can get. Nothing stands out. The case isn't that intriguing, Bosch is yet another surly detective who might be an anti-hero. I'm just not sure what it has that will separate it from the countless cop shows already littering the airwaves and internet.Because of the talent connected to it, I could see a mini-series or short series order for this. It's not bad; it's just generic.\n",
      "\tsentence  44 :  I've tried several Amazon series, and each one has too much swearing.  Right off the bat, this one has swearing.. literally in the first sentence!  That is such a turn off!  Every sentence after that is much the same.  I finally couldn't take it anymore.  I'm completely done with Amazon series.  Disappointed.\n",
      "\tsentence  45 :  it's another crime scene investigation show. Very predictable, the characters are good, no originality, can't understand why Herschel is there?? didn't change his ponytail??? and made him a doctor??? It probably works as a show but failed to create empathy with me. I am not rooting for Bosch. He has no evidence of being a person we have to root for. So zero originality. I like the casting. But as a show i think is not strong enough, as a movie would work fantastically.\n",
      "\tsentence  46 :  Well made cop drama, nothing I can complain about but also nothing I can think of that would make me need to watch it.\n",
      "\tsentence  47 :  I love how Amazon is allowing viewers to play a role in determining what shows they develop in the future.  Very cool.  Bosch is the first pilot I watched, simply because it had the most reviews.  I have not read the books, but friends who have, tell me they love the character.  So I was prepared to be wowed and entertained.  Unfortunately, I found the show rather slow.  From my friends, I understand that Bosch is a heroic character, but I didn't get that from the pilot.  I was left wondering if he was a good cop or a bad cop.  Particularly after the ending.  Did he get emotional because he cared about the poor boy that had been abused, or was he abused in a similar manner, or was he feeling guilty because he'd been an abuser?  It was hard to tell.  I imagine this could be a good show, but after watching the pilot, it did not exactly leave me wanting more.\n",
      "\tsentence  48 :  Here's an idea, Amazon:  if you're going to ask me to watch something and review it, don't lie to me about the rating.  On your website and on my Amazon app on Roku, the show's rating is listed as NR.  Then, when I start to watch it, it actually shows it to be rated MA.  Prior to popular belief, not everyone wants to watch MA shows.  I'm still of the belief that you can make quality programming without all the overt sexuality and profanity.  Because for this reviewer, I don't need or want that coming into my home and if it's on there, then I won't watch the show no matter how well-acted, written or directed.  So, here's an idea - how about making a show that is NOT an MA rating.  You know, not all of us think the use of the &#34;f&#34; word is quality writing.  You sent me an email and asked for my review.  Well, there you go...\n",
      "\tsentence  49 :  He killed a guy, bones, civil suit about the guy he killed. No character development, not a good pilot for people haven't read the books. TNT passed?\n",
      "\tsentence  50 :  It is like a show that would have worked 20 yeas ago.  Now it's just one in a large field of crusty cop shows.  Sorry.  The author got screwed on this one.\n",
      "\tsentence  51 :  I felt it started a little slow but the story line got better as it went on.  Are they trying to rival the Wolf of Wall Street with the use of the F*** word so much.  There is no need for that.  Bosch has a better command of vocabulary that that is not needed and slows the enjoyment of the plot.  The doctor was a very good choice for supporting actor and would be good to incorporate in later shows.  The actor chosen as the coroner was an excellent choice.  I'm not so sure that I like the actor chosen for Bosch and he really shouldn't be smoking so much.  It hurts his character. It may get better with future episodes depending on how the story is developed.\n",
      "\tsentence  52 :  This is a well crafted show with good performances and an okay script.  I made it thru the fifty minutes of this episode but was not intrigued enough to return to it.  I guess I have seen one too many shows like this with a hard boiled detective who is dedicated to doing justice but whose flaws get in the way of his own life.  This is one of the better examples of that genre but I want to see something that reinvents the game.\n",
      "\tsentence  53 :  Enjoy police drama in a very crowded field in this genre, but nothing specially enticing to want to make me continue watching the proposed series\n"
     ]
    },
    {
     "ename": "IndexError",
     "evalue": "list index out of range",
     "output_type": "error",
     "traceback": [
      "\u001b[0;31m---------------------------------------------------------------------------\u001b[0m",
      "\u001b[0;31mIndexError\u001b[0m                                Traceback (most recent call last)",
      "\u001b[0;32m<ipython-input-134-287032976a04>\u001b[0m in \u001b[0;36m<module>\u001b[0;34m()\u001b[0m\n\u001b[0;32m----> 1\u001b[0;31m \u001b[0mprint_clusters\u001b[0m\u001b[0;34m(\u001b[0m\u001b[0mclusters_bad\u001b[0m\u001b[0;34m,\u001b[0m \u001b[0msentences_bad\u001b[0m\u001b[0;34m)\u001b[0m\u001b[0;34m\u001b[0m\u001b[0m\n\u001b[0m",
      "\u001b[0;32m<ipython-input-132-312e9b0b57f0>\u001b[0m in \u001b[0;36mprint_clusters\u001b[0;34m(cluster, sentences)\u001b[0m\n\u001b[1;32m      3\u001b[0m         \u001b[0mprint\u001b[0m\u001b[0;34m(\u001b[0m\u001b[0;34m\"cluster \"\u001b[0m\u001b[0;34m,\u001b[0m\u001b[0mcluster\u001b[0m\u001b[0;34m,\u001b[0m\u001b[0;34m\":\"\u001b[0m\u001b[0;34m)\u001b[0m\u001b[0;34m\u001b[0m\u001b[0m\n\u001b[1;32m      4\u001b[0m         \u001b[0;32mfor\u001b[0m \u001b[0mi\u001b[0m\u001b[0;34m,\u001b[0m\u001b[0msentence\u001b[0m \u001b[0;32min\u001b[0m \u001b[0menumerate\u001b[0m\u001b[0;34m(\u001b[0m\u001b[0mclusters\u001b[0m\u001b[0;34m[\u001b[0m\u001b[0mcluster\u001b[0m\u001b[0;34m]\u001b[0m\u001b[0;34m)\u001b[0m\u001b[0;34m:\u001b[0m\u001b[0;34m\u001b[0m\u001b[0m\n\u001b[0;32m----> 5\u001b[0;31m             \u001b[0mprint\u001b[0m\u001b[0;34m(\u001b[0m\u001b[0;34m\"\\tsentence \"\u001b[0m\u001b[0;34m,\u001b[0m\u001b[0mi\u001b[0m\u001b[0;34m,\u001b[0m\u001b[0;34m\": \"\u001b[0m\u001b[0;34m,\u001b[0m\u001b[0msentences\u001b[0m\u001b[0;34m[\u001b[0m\u001b[0msentence\u001b[0m\u001b[0;34m]\u001b[0m\u001b[0;34m)\u001b[0m\u001b[0;34m\u001b[0m\u001b[0m\n\u001b[0m",
      "\u001b[0;31mIndexError\u001b[0m: list index out of range"
     ]
    }
   ],
   "source": [
    "print_clusters(clusters_bad, sentences_bad)"
   ]
  },
  {
   "cell_type": "code",
   "execution_count": 135,
   "metadata": {
    "collapsed": true
   },
   "outputs": [],
   "source": [
    "from sklearn.feature_extraction.text import CountVectorizer"
   ]
  },
  {
   "cell_type": "code",
   "execution_count": 136,
   "metadata": {
    "collapsed": false
   },
   "outputs": [],
   "source": [
    "vectorizer = CountVectorizer(ngram_range=(1, 2), min_df=1)"
   ]
  },
  {
   "cell_type": "code",
   "execution_count": 137,
   "metadata": {
    "collapsed": false
   },
   "outputs": [],
   "source": [
    "analyze = vectorizer.build_analyzer()"
   ]
  },
  {
   "cell_type": "code",
   "execution_count": 138,
   "metadata": {
    "collapsed": true
   },
   "outputs": [],
   "source": [
    "import nltk"
   ]
  },
  {
   "cell_type": "code",
   "execution_count": 139,
   "metadata": {
    "collapsed": true
   },
   "outputs": [],
   "source": [
    "from collections import Counter"
   ]
  },
  {
   "cell_type": "code",
   "execution_count": 148,
   "metadata": {
    "collapsed": false
   },
   "outputs": [],
   "source": [
    "def  bigram_analysis(clusters,sentences):\n",
    "    output = []\n",
    "    for cluster in range(nclusters):\n",
    "        print(\"cluster \",cluster,\":\")\n",
    "        sentences_grouped = []\n",
    "        frequencies = Counter([])\n",
    "        for i,sentence in enumerate(clusters[cluster]):\n",
    "            sentences_grouped.append(sentences[sentence])\n",
    "            tokens = word_tokenize(sentences[sentence])\n",
    "            bgs = nltk.bigrams(tokens)\n",
    "            frequencies += Counter(bgs)\n",
    "        output.append(nltk.FreqDist(frequencies))\n",
    "    return output\n",
    "\n",
    "       "
   ]
  },
  {
   "cell_type": "code",
   "execution_count": 149,
   "metadata": {
    "collapsed": false
   },
   "outputs": [
    {
     "name": "stdout",
     "output_type": "stream",
     "text": [
      "cluster  0 :\n",
      "cluster  1 :\n",
      "cluster  2 :\n",
      "cluster  3 :\n",
      "cluster  4 :\n"
     ]
    }
   ],
   "source": [
    "bad_data = bigram_analysis(clusters_bad, sentences_bad)"
   ]
  },
  {
   "cell_type": "code",
   "execution_count": 158,
   "metadata": {
    "collapsed": false
   },
   "outputs": [
    {
     "name": "stdout",
     "output_type": "stream",
     "text": [
      "cluster  0 :\n",
      "cluster  1 :\n",
      "cluster  2 :\n",
      "cluster  3 :\n",
      "cluster  4 :\n"
     ]
    }
   ],
   "source": [
    "good_data = bigram_analysis(clusters_good, sentences_good)"
   ]
  },
  {
   "cell_type": "code",
   "execution_count": 161,
   "metadata": {
    "collapsed": false,
    "scrolled": true
   },
   "outputs": [
    {
     "data": {
      "text/plain": [
       "[(('.', 'I'), 76),\n",
       " ((',', 'and'), 76),\n",
       " (('.', 'The'), 64),\n",
       " (('of', 'the'), 61),\n",
       " ((',', 'but'), 50),\n",
       " ((',', 'I'), 48),\n",
       " (('to', 'see'), 34),\n",
       " (('Titus', 'Welliver'), 30),\n",
       " (('is', 'a'), 28),\n",
       " ((',', 'the'), 27),\n",
       " (('to', 'the'), 26),\n",
       " (('the', 'books'), 24),\n",
       " (('and', 'I'), 23),\n",
       " (('I', \"'m\"), 22),\n",
       " (('.', 'It'), 22)]"
      ]
     },
     "execution_count": 161,
     "metadata": {},
     "output_type": "execute_result"
    }
   ],
   "source": [
    "good_data[1].most_common(15)"
   ]
  },
  {
   "cell_type": "code",
   "execution_count": null,
   "metadata": {
    "collapsed": true
   },
   "outputs": [],
   "source": []
  },
  {
   "cell_type": "code",
   "execution_count": null,
   "metadata": {
    "collapsed": true
   },
   "outputs": [],
   "source": []
  },
  {
   "cell_type": "code",
   "execution_count": null,
   "metadata": {
    "collapsed": true
   },
   "outputs": [],
   "source": []
  }
 ],
 "metadata": {
  "kernelspec": {
   "display_name": "Python 3",
   "language": "python",
   "name": "python3"
  },
  "language_info": {
   "codemirror_mode": {
    "name": "ipython",
    "version": 3
   },
   "file_extension": ".py",
   "mimetype": "text/x-python",
   "name": "python",
   "nbconvert_exporter": "python",
   "pygments_lexer": "ipython3",
   "version": "3.5.2"
  }
 },
 "nbformat": 4,
 "nbformat_minor": 2
}
